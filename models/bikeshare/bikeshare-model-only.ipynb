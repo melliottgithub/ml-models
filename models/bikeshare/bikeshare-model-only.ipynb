{
 "cells": [
  {
   "cell_type": "code",
   "execution_count": 51,
   "id": "393000f2",
   "metadata": {
    "id": "393000f2"
   },
   "outputs": [],
   "source": [
    "import pandas as pd\n",
    "import numpy as np\n",
    "from sklearn.preprocessing import StandardScaler\n",
    "from sklearn.neural_network import MLPRegressor\n",
    "from sklearn.model_selection import train_test_split\n",
    "from sklearn.metrics import accuracy_score\n",
    "from sklearn.metrics import mean_squared_error\n",
    "from sklearn.metrics import mean_absolute_error\n",
    "from sklearn.metrics import mean_absolute_percentage_error\n"
   ]
  },
  {
   "cell_type": "code",
   "execution_count": 52,
   "id": "075427dc-b303-4492-a1e6-60e2c0c43ee5",
   "metadata": {},
   "outputs": [],
   "source": [
    "df = pd.read_csv('hour.csv')"
   ]
  },
  {
   "cell_type": "code",
   "execution_count": 53,
   "id": "6adc352b",
   "metadata": {
    "colab": {
     "base_uri": "https://localhost:8080/",
     "height": 300
    },
    "id": "6adc352b",
    "outputId": "3f5f1639-4b51-4a1e-ad32-a4664ee9bbcb"
   },
   "outputs": [
    {
     "data": {
      "text/html": [
       "<div>\n",
       "<style scoped>\n",
       "    .dataframe tbody tr th:only-of-type {\n",
       "        vertical-align: middle;\n",
       "    }\n",
       "\n",
       "    .dataframe tbody tr th {\n",
       "        vertical-align: top;\n",
       "    }\n",
       "\n",
       "    .dataframe thead th {\n",
       "        text-align: right;\n",
       "    }\n",
       "</style>\n",
       "<table border=\"1\" class=\"dataframe\">\n",
       "  <thead>\n",
       "    <tr style=\"text-align: right;\">\n",
       "      <th></th>\n",
       "      <th>season</th>\n",
       "      <th>mnth</th>\n",
       "      <th>hr</th>\n",
       "      <th>holiday</th>\n",
       "      <th>weekday</th>\n",
       "      <th>workingday</th>\n",
       "      <th>weathersit</th>\n",
       "      <th>temp</th>\n",
       "      <th>atemp</th>\n",
       "      <th>hum</th>\n",
       "      <th>windspeed</th>\n",
       "      <th>cnt</th>\n",
       "    </tr>\n",
       "  </thead>\n",
       "  <tbody>\n",
       "    <tr>\n",
       "      <th>count</th>\n",
       "      <td>17379.000000</td>\n",
       "      <td>17379.000000</td>\n",
       "      <td>17379.000000</td>\n",
       "      <td>17379.000000</td>\n",
       "      <td>17379.000000</td>\n",
       "      <td>17379.000000</td>\n",
       "      <td>17379.000000</td>\n",
       "      <td>17379.000000</td>\n",
       "      <td>17379.000000</td>\n",
       "      <td>17379.000000</td>\n",
       "      <td>17379.000000</td>\n",
       "      <td>17379.000000</td>\n",
       "    </tr>\n",
       "    <tr>\n",
       "      <th>mean</th>\n",
       "      <td>2.501640</td>\n",
       "      <td>6.537775</td>\n",
       "      <td>11.546752</td>\n",
       "      <td>0.028770</td>\n",
       "      <td>3.003683</td>\n",
       "      <td>0.682721</td>\n",
       "      <td>1.425283</td>\n",
       "      <td>0.496987</td>\n",
       "      <td>0.475775</td>\n",
       "      <td>0.627229</td>\n",
       "      <td>0.190098</td>\n",
       "      <td>189.463088</td>\n",
       "    </tr>\n",
       "    <tr>\n",
       "      <th>std</th>\n",
       "      <td>1.106918</td>\n",
       "      <td>3.438776</td>\n",
       "      <td>6.914405</td>\n",
       "      <td>0.167165</td>\n",
       "      <td>2.005771</td>\n",
       "      <td>0.465431</td>\n",
       "      <td>0.639357</td>\n",
       "      <td>0.192556</td>\n",
       "      <td>0.171850</td>\n",
       "      <td>0.192930</td>\n",
       "      <td>0.122340</td>\n",
       "      <td>181.387599</td>\n",
       "    </tr>\n",
       "    <tr>\n",
       "      <th>min</th>\n",
       "      <td>1.000000</td>\n",
       "      <td>1.000000</td>\n",
       "      <td>0.000000</td>\n",
       "      <td>0.000000</td>\n",
       "      <td>0.000000</td>\n",
       "      <td>0.000000</td>\n",
       "      <td>1.000000</td>\n",
       "      <td>0.020000</td>\n",
       "      <td>0.000000</td>\n",
       "      <td>0.000000</td>\n",
       "      <td>0.000000</td>\n",
       "      <td>1.000000</td>\n",
       "    </tr>\n",
       "    <tr>\n",
       "      <th>25%</th>\n",
       "      <td>2.000000</td>\n",
       "      <td>4.000000</td>\n",
       "      <td>6.000000</td>\n",
       "      <td>0.000000</td>\n",
       "      <td>1.000000</td>\n",
       "      <td>0.000000</td>\n",
       "      <td>1.000000</td>\n",
       "      <td>0.340000</td>\n",
       "      <td>0.333300</td>\n",
       "      <td>0.480000</td>\n",
       "      <td>0.104500</td>\n",
       "      <td>40.000000</td>\n",
       "    </tr>\n",
       "    <tr>\n",
       "      <th>50%</th>\n",
       "      <td>3.000000</td>\n",
       "      <td>7.000000</td>\n",
       "      <td>12.000000</td>\n",
       "      <td>0.000000</td>\n",
       "      <td>3.000000</td>\n",
       "      <td>1.000000</td>\n",
       "      <td>1.000000</td>\n",
       "      <td>0.500000</td>\n",
       "      <td>0.484800</td>\n",
       "      <td>0.630000</td>\n",
       "      <td>0.194000</td>\n",
       "      <td>142.000000</td>\n",
       "    </tr>\n",
       "    <tr>\n",
       "      <th>75%</th>\n",
       "      <td>3.000000</td>\n",
       "      <td>10.000000</td>\n",
       "      <td>18.000000</td>\n",
       "      <td>0.000000</td>\n",
       "      <td>5.000000</td>\n",
       "      <td>1.000000</td>\n",
       "      <td>2.000000</td>\n",
       "      <td>0.660000</td>\n",
       "      <td>0.621200</td>\n",
       "      <td>0.780000</td>\n",
       "      <td>0.253700</td>\n",
       "      <td>281.000000</td>\n",
       "    </tr>\n",
       "    <tr>\n",
       "      <th>max</th>\n",
       "      <td>4.000000</td>\n",
       "      <td>12.000000</td>\n",
       "      <td>23.000000</td>\n",
       "      <td>1.000000</td>\n",
       "      <td>6.000000</td>\n",
       "      <td>1.000000</td>\n",
       "      <td>4.000000</td>\n",
       "      <td>1.000000</td>\n",
       "      <td>1.000000</td>\n",
       "      <td>1.000000</td>\n",
       "      <td>0.850700</td>\n",
       "      <td>977.000000</td>\n",
       "    </tr>\n",
       "  </tbody>\n",
       "</table>\n",
       "</div>"
      ],
      "text/plain": [
       "             season          mnth            hr       holiday       weekday  \\\n",
       "count  17379.000000  17379.000000  17379.000000  17379.000000  17379.000000   \n",
       "mean       2.501640      6.537775     11.546752      0.028770      3.003683   \n",
       "std        1.106918      3.438776      6.914405      0.167165      2.005771   \n",
       "min        1.000000      1.000000      0.000000      0.000000      0.000000   \n",
       "25%        2.000000      4.000000      6.000000      0.000000      1.000000   \n",
       "50%        3.000000      7.000000     12.000000      0.000000      3.000000   \n",
       "75%        3.000000     10.000000     18.000000      0.000000      5.000000   \n",
       "max        4.000000     12.000000     23.000000      1.000000      6.000000   \n",
       "\n",
       "         workingday    weathersit          temp         atemp           hum  \\\n",
       "count  17379.000000  17379.000000  17379.000000  17379.000000  17379.000000   \n",
       "mean       0.682721      1.425283      0.496987      0.475775      0.627229   \n",
       "std        0.465431      0.639357      0.192556      0.171850      0.192930   \n",
       "min        0.000000      1.000000      0.020000      0.000000      0.000000   \n",
       "25%        0.000000      1.000000      0.340000      0.333300      0.480000   \n",
       "50%        1.000000      1.000000      0.500000      0.484800      0.630000   \n",
       "75%        1.000000      2.000000      0.660000      0.621200      0.780000   \n",
       "max        1.000000      4.000000      1.000000      1.000000      1.000000   \n",
       "\n",
       "          windspeed           cnt  \n",
       "count  17379.000000  17379.000000  \n",
       "mean       0.190098    189.463088  \n",
       "std        0.122340    181.387599  \n",
       "min        0.000000      1.000000  \n",
       "25%        0.104500     40.000000  \n",
       "50%        0.194000    142.000000  \n",
       "75%        0.253700    281.000000  \n",
       "max        0.850700    977.000000  "
      ]
     },
     "execution_count": 53,
     "metadata": {},
     "output_type": "execute_result"
    }
   ],
   "source": [
    "df_clean = df.drop([\"instant\", \"yr\", \"dteday\",\"casual\",\"registered\"],axis=1) \n",
    "df_clean.describe() "
   ]
  },
  {
   "cell_type": "code",
   "execution_count": 54,
   "id": "e7c488ee",
   "metadata": {
    "colab": {
     "base_uri": "https://localhost:8080/"
    },
    "id": "e7c488ee",
    "outputId": "73eda454-ec9a-4db8-d263-a687a4429fd9"
   },
   "outputs": [
    {
     "name": "stderr",
     "output_type": "stream",
     "text": [
      "/tmp/ipykernel_16325/2423819378.py:5: PerformanceWarning: dropping on a non-lexsorted multi-index without a level parameter may impact performance.\n",
      "  X=df_clean.drop(columns=\"cnt\",axis=1)\n"
     ]
    }
   ],
   "source": [
    "#df_clean = df_clean.groupby(['season','mnth','hr','holiday','weekday','workingday','weathersit']).agg({'temp': ['mean'],'temp': ['mean'],'atemp': ['mean'], 'hum': ['mean'], 'windspeed': ['mean'],'cnt': ['mean']}).reset_index()\n",
    "# df_clean = df_clean.groupby(['season','mnth','hr','holiday','weekday','workingday','weathersit','temp','atemp','hum','windspeed']).agg({'cnt': ['mean']}).reset_index()\n",
    "\n",
    "df_clean = df_clean.groupby(['season','mnth','hr','holiday','weekday','workingday','weathersit']).agg({'temp': ['mean'],'temp': ['mean'],'atemp': ['mean'], 'hum': ['mean'], 'windspeed': ['mean'],'cnt': ['mean']}).reset_index()\n",
    "X=df_clean.drop(columns=\"cnt\",axis=1)\n",
    "y=df_clean['cnt']\n"
   ]
  },
  {
   "cell_type": "code",
   "execution_count": 55,
   "id": "86c84549",
   "metadata": {
    "id": "86c84549"
   },
   "outputs": [],
   "source": [
    "#X_train,X_test,y_train,y_test=train_test_split(X,y, test_size=0.2,random_state=2)\n",
    "\n",
    "scaler = StandardScaler()\n",
    "scaled_X = scaler.fit_transform(X)\n",
    "X_train,X_test,y_train,y_test=train_test_split(scaled_X, y, test_size=0.2, random_state=2)"
   ]
  },
  {
   "cell_type": "code",
   "execution_count": 56,
   "id": "09dcdef1-81e0-445b-a85e-cf4efe87360a",
   "metadata": {
    "tags": []
   },
   "outputs": [],
   "source": [
    "# from sklearn.preprocessing import StandardScaler\n",
    "from sklearn.model_selection import GridSearchCV\n",
    "\n",
    "# 5. BackPropagation Multi Layer Perceptron regressor with tree hidden layer\n",
    "mlp = MLPRegressor()\n",
    "parameters = {\n",
    "    'hidden_layer_sizes': [(64,64,64), (96,96,96), (128,128,128), (196,196,196)],\n",
    "    'activation': ['tanh'],\n",
    "    'solver': ['sgd'],\n",
    "    'max_iter': [7000, 8000, 10000],\n",
    "    'learning_rate_init': [0.0001, 0.0005, 0.001]\n",
    "}\n",
    "grid_search = GridSearchCV(mlp, parameters, n_jobs=-1, cv=2)\n",
    "grid_search.fit(X_train, np.ravel(y_train, order=\"C\"))\n",
    "y_pred = grid_search.predict(X_test)\n",
    "\n",
    "rscore = grid_search.score(X_test, y_test)\n",
    "mse = mean_squared_error(y_test, y_pred)\n",
    "mae = mean_absolute_error(y_test, y_pred)\n",
    "mape = mean_absolute_percentage_error(y_test, y_pred)"
   ]
  },
  {
   "cell_type": "code",
   "execution_count": 57,
   "id": "2a9a1958-cd18-49e1-8454-e2233b5d7ad8",
   "metadata": {},
   "outputs": [
    {
     "name": "stdout",
     "output_type": "stream",
     "text": [
      "{'activation': 'tanh', 'hidden_layer_sizes': (196, 196, 196), 'learning_rate_init': 0.0001, 'max_iter': 8000, 'solver': 'sgd'}\n",
      "MLPRegressor(activation='tanh', hidden_layer_sizes=(196, 196, 196),\n",
      "             learning_rate_init=0.0001, max_iter=8000, solver='sgd')\n",
      "Score: 0.9100\n",
      "MSE: 2346.6892\n",
      "MAE: 30.2056\n",
      "MAPE: 0.35\n"
     ]
    }
   ],
   "source": [
    "print(grid_search.best_params_)\n",
    "print(grid_search.best_estimator_)\n",
    "\n",
    "print(\"Score: %.4f\" % rscore)\n",
    "print(\"MSE: %.4f\" % mse)\n",
    "print(\"MAE: %.4f\" % mae)\n",
    "print(\"MAPE: %.2f\" % mape)"
   ]
  },
  {
   "cell_type": "code",
   "execution_count": null,
   "id": "2e608846-ad07-4e3b-8f81-5642fc4a5a99",
   "metadata": {
    "tags": []
   },
   "outputs": [],
   "source": [
    "plt.scatter(y_test, y_pred)\n",
    "plt.xlabel(\"Actual values\")\n",
    "plt.ylabel(\"Predicted values\")\n",
    "plt.title(\"Actual vs Predicted values\")\n",
    "plt.plot([y_test.min(), y_test.max()], [y_test.min(), y_test.max()], 'k--', lw=2)\n",
    "plt.show()"
   ]
  },
  {
   "cell_type": "code",
   "execution_count": 59,
   "id": "238e7ed4",
   "metadata": {},
   "outputs": [
    {
     "name": "stdout",
     "output_type": "stream",
     "text": [
      "Score: 0.9054\n",
      "MSE: 2466.3722\n",
      "MAE: 30.3335\n",
      "MAPE: 0.36\n"
     ]
    }
   ],
   "source": [
    "mlp = MLPRegressor(activation='tanh', hidden_layer_sizes=(196, 196, 196), learning_rate_init=0.0001, max_iter=8000, solver='sgd', random_state=2)\n",
    "mlp.fit(X_train, np.ravel(y_train, order=\"C\"))\n",
    "y_pred = mlp.predict(X_test)\n",
    "\n",
    "rscore = mlp.score(X_test, y_test)\n",
    "\n",
    "mse = mean_squared_error(y_test, y_pred)\n",
    "mae = mean_absolute_error(y_test, y_pred)\n",
    "mape = mean_absolute_percentage_error(y_test, y_pred)\n",
    "print(\"Score: %.4f\" % rscore)\n",
    "print(\"MSE: %.4f\" % mse)\n",
    "print(\"MAE: %.4f\" % mae)\n",
    "print(\"MAPE: %.2f\" % mape)"
   ]
  },
  {
   "cell_type": "markdown",
   "id": "2159f617-b04b-43f5-82e0-f0c4e1693685",
   "metadata": {},
   "source": [
    "# Conclusions\n",
    "- Best model based on R2 score is: 5. BackPropagation Multi Layer Perceptron regressor with tree hidden layer\n",
    "- The model with Back Propagation improved 0.913% over the second best model (3)\n",
    "- Other metrics in model 5) also improved, like MAPE that reduced from 0.55 to 0.37, compared to the second best model (3)"
   ]
  },
  {
   "cell_type": "code",
   "execution_count": 60,
   "id": "909ef966-77b1-4648-9b9b-3823d07905ce",
   "metadata": {},
   "outputs": [
    {
     "data": {
      "text/plain": [
       "['bikeshare.pkl']"
      ]
     },
     "execution_count": 60,
     "metadata": {},
     "output_type": "execute_result"
    }
   ],
   "source": [
    "from sklearn.pipeline import Pipeline\n",
    "import joblib\n",
    "pipeline = Pipeline([('scaler', scaler), ('regressor', mlp)])\n",
    "\n",
    "# save the model to disk\n",
    "joblib.dump(pipeline, 'bikeshare.pkl')"
   ]
  }
 ],
 "metadata": {
  "colab": {
   "provenance": []
  },
  "instance_type": "ml.t3.medium",
  "kernelspec": {
   "display_name": "Python 3 (ipykernel)",
   "language": "python",
   "name": "python3"
  },
  "language_info": {
   "codemirror_mode": {
    "name": "ipython",
    "version": 3
   },
   "file_extension": ".py",
   "mimetype": "text/x-python",
   "name": "python",
   "nbconvert_exporter": "python",
   "pygments_lexer": "ipython3",
   "version": "3.11.5"
  },
  "vscode": {
   "interpreter": {
    "hash": "753e19518da2b2101a1d54ab3a97bd87587dd78d828089b583550e997c6bee0b"
   }
  }
 },
 "nbformat": 4,
 "nbformat_minor": 5
}
